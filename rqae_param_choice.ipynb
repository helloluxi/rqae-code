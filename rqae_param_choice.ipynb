{
 "cells": [
  {
   "cell_type": "code",
   "execution_count": null,
   "id": "b9b9dd3c",
   "metadata": {},
   "outputs": [],
   "source": [
    "import numpy as np\n",
    "import numpy.linalg as la\n",
    "import os\n",
    "from ctypes import c_int, c_double, POINTER, cdll\n",
    "from tqdm import tqdm\n",
    "\n",
    "import matplotlib.pyplot as plt\n",
    "import scienceplots\n",
    "plt.style.use(['science', 'grid'])\n",
    "plt.rcParams.update({'font.size': 20})\n",
    "plt.rcParams.update({'figure.figsize': (8, 6)})"
   ]
  },
  {
   "cell_type": "code",
   "execution_count": null,
   "id": "d1d89c9b",
   "metadata": {},
   "outputs": [],
   "source": [
    "# Release dll if loaded\n",
    "dll = None\n",
    "# Compile cuda code and load dll\n",
    "os.system(\"pwsh ./run.ps1 > log\")\n",
    "dll = cdll.LoadLibrary(\"./build/Release/kernel.dll\")\n",
    "## Define function signatures\n",
    "# # void call_qpe_kernel(double* data, int nAll, int T, int R, bool unbiased)\n",
    "# dll.call_qpe_kernel.argtypes = [POINTER(c_double), c_int, c_int, c_int, c_int]\n",
    "# # void call_oqae_kernel(double* data, int nAll, int T)\n",
    "# dll.call_oqae_kernel.argtypes = [POINTER(c_double), c_int, c_int]\n",
    "# void call_mlae_kernel(double* data, int nAll, int length, int* Ms, int* Rs, int precision)\n",
    "dll.call_mlae_kernel.argtypes = [POINTER(c_double), c_int, c_int, POINTER(c_int), POINTER(c_int), c_int]\n",
    "# void call_rqae_kernel(double* data, int nAll, int length, int* Ms, double eta, int precision)\n",
    "dll.call_rqae_kernel.argtypes = [POINTER(c_double), c_int, c_int, POINTER(c_int), c_double, c_int]"
   ]
  },
  {
   "cell_type": "code",
   "execution_count": null,
   "id": "1c216b19",
   "metadata": {},
   "outputs": [],
   "source": [
    "nSample = 4000\n",
    "stats = {}\n",
    "for R0 in [12, 16, 20, 24]:\n",
    "    stat_RQAE = []\n",
    "    for D in 1<<np.arange(3, 10):\n",
    "        src = np.random.random(nSample)\n",
    "        res = np.copy(src)\n",
    "        cdf = np.cumsum(1 / np.arange(1, D+1))\n",
    "        length = round(R0 * cdf[-1])\n",
    "        cdf /= cdf[-1]  # normalize to 1\n",
    "        # sample cdf for length points\n",
    "        Ms = np.array([np.searchsorted(cdf, np.random.random()) + 1 for i in range(length)], dtype=np.int32)\n",
    "        # print(f'T = {T}, Ms = {Ms}')\n",
    "        dll.call_rqae_kernel(res.ctypes.data_as(POINTER(c_double)), nSample, length, Ms.ctypes.data_as(POINTER(c_int)), 1.0, 4000)\n",
    "        cost = Ms.sum()\n",
    "        err = la.norm(res - src) / np.sqrt(nSample)\n",
    "        stat_RQAE.append([cost, err])\n",
    "        print(f'R0 = {R0},\\tD = {D},\\tcost = {cost},\\terr = {err},\\tFactor = {cost * err}')\n",
    "    stats[f'$R_0$ = {R0}'] = stat_RQAE"
   ]
  },
  {
   "cell_type": "code",
   "execution_count": null,
   "id": "98b73089",
   "metadata": {},
   "outputs": [],
   "source": [
    "for idx, key in enumerate(stats):\n",
    "    D, err = np.array(stats[key]).T\n",
    "    plt.plot(D, D*err, label=key, marker=\"od^s+h\"[idx])\n",
    "plt.xscale(\"log\")\n",
    "plt.xlabel(\"$N$\")\n",
    "plt.ylabel(\"$N \\\\cdot \\\\epsilon$\")\n",
    "plt.grid(True)\n",
    "plt.legend()\n",
    "plt.savefig(\"rqae_params.pdf\")\n",
    "plt.show()"
   ]
  }
 ],
 "metadata": {
  "kernelspec": {
   "display_name": "Python 3",
   "language": "python",
   "name": "python3"
  },
  "language_info": {
   "codemirror_mode": {
    "name": "ipython",
    "version": 3
   },
   "file_extension": ".py",
   "mimetype": "text/x-python",
   "name": "python",
   "nbconvert_exporter": "python",
   "pygments_lexer": "ipython3",
   "version": "3.10.6"
  }
 },
 "nbformat": 4,
 "nbformat_minor": 5
}
